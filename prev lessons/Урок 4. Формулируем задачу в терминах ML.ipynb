{
 "cells": [
  {
   "cell_type": "markdown",
   "id": "9ef57f8c-1c8d-418f-8e7e-110c9fa43fca",
   "metadata": {
    "jp-MarkdownHeadingCollapsed": true
   },
   "source": [
    "## Шаг 0. Установка библиотек"
   ]
  },
  {
   "cell_type": "code",
   "execution_count": 3,
   "id": "ee7ba375-50ea-4ee6-a4f2-bfc36f508de2",
   "metadata": {
    "scrolled": true
   },
   "outputs": [
    {
     "name": "stdout",
     "output_type": "stream",
     "text": [
      "Defaulting to user installation because normal site-packages is not writeable\n",
      "Requirement already satisfied: kaggle in /home/dima/.local/lib/python3.10/site-packages (1.7.4.5)\n",
      "Requirement already satisfied: bleach in /home/dima/.local/lib/python3.10/site-packages (from kaggle) (6.1.0)\n",
      "Requirement already satisfied: certifi>=14.05.14 in /usr/lib/python3/dist-packages (from kaggle) (2020.6.20)\n",
      "Requirement already satisfied: charset-normalizer in /home/dima/.local/lib/python3.10/site-packages (from kaggle) (3.4.0)\n",
      "Requirement already satisfied: idna in /usr/lib/python3/dist-packages (from kaggle) (3.3)\n",
      "Requirement already satisfied: protobuf in /home/dima/.local/lib/python3.10/site-packages (from kaggle) (5.29.3)\n",
      "Requirement already satisfied: python-dateutil>=2.5.3 in /home/dima/.local/lib/python3.10/site-packages (from kaggle) (2.9.0.post0)\n",
      "Requirement already satisfied: python-slugify in /home/dima/.local/lib/python3.10/site-packages (from kaggle) (8.0.4)\n",
      "Requirement already satisfied: requests in /home/dima/.local/lib/python3.10/site-packages (from kaggle) (2.32.3)\n",
      "Requirement already satisfied: setuptools>=21.0.0 in /usr/lib/python3/dist-packages (from kaggle) (59.6.0)\n",
      "Requirement already satisfied: six>=1.10 in /usr/lib/python3/dist-packages (from kaggle) (1.16.0)\n",
      "Requirement already satisfied: text-unidecode in /home/dima/.local/lib/python3.10/site-packages (from kaggle) (1.3)\n",
      "Requirement already satisfied: tqdm in /home/dima/.local/lib/python3.10/site-packages (from kaggle) (4.67.1)\n",
      "Requirement already satisfied: urllib3>=1.15.1 in /home/dima/.local/lib/python3.10/site-packages (from kaggle) (2.3.0)\n",
      "Requirement already satisfied: webencodings in /usr/lib/python3/dist-packages (from kaggle) (0.5.1)\n",
      "\n",
      "\u001b[1m[\u001b[0m\u001b[34;49mnotice\u001b[0m\u001b[1;39;49m]\u001b[0m\u001b[39;49m A new release of pip is available: \u001b[0m\u001b[31;49m25.0.1\u001b[0m\u001b[39;49m -> \u001b[0m\u001b[32;49m25.1.1\u001b[0m\n",
      "\u001b[1m[\u001b[0m\u001b[34;49mnotice\u001b[0m\u001b[1;39;49m]\u001b[0m\u001b[39;49m To update, run: \u001b[0m\u001b[32;49mpython3 -m pip install --upgrade pip\u001b[0m\n",
      "Note: you may need to restart the kernel to use updated packages.\n"
     ]
    }
   ],
   "source": [
    "pip install kaggle"
   ]
  },
  {
   "cell_type": "code",
   "execution_count": 2,
   "id": "769b6f9a-351a-4aa7-8c41-7ed60baab25e",
   "metadata": {},
   "outputs": [
    {
     "name": "stdout",
     "output_type": "stream",
     "text": [
      "Defaulting to user installation because normal site-packages is not writeable\n",
      "Requirement already satisfied: seaborn in /home/dima/.local/lib/python3.10/site-packages (0.13.2)\n",
      "Requirement already satisfied: numpy!=1.24.0,>=1.20 in /home/dima/.local/lib/python3.10/site-packages (from seaborn) (2.2.4)\n",
      "Requirement already satisfied: pandas>=1.2 in /home/dima/.local/lib/python3.10/site-packages (from seaborn) (2.2.3)\n",
      "Requirement already satisfied: matplotlib!=3.6.1,>=3.4 in /home/dima/.local/lib/python3.10/site-packages (from seaborn) (3.10.0)\n",
      "Requirement already satisfied: contourpy>=1.0.1 in /home/dima/.local/lib/python3.10/site-packages (from matplotlib!=3.6.1,>=3.4->seaborn) (1.3.1)\n",
      "Requirement already satisfied: cycler>=0.10 in /home/dima/.local/lib/python3.10/site-packages (from matplotlib!=3.6.1,>=3.4->seaborn) (0.12.1)\n",
      "Requirement already satisfied: fonttools>=4.22.0 in /home/dima/.local/lib/python3.10/site-packages (from matplotlib!=3.6.1,>=3.4->seaborn) (4.55.6)\n",
      "Requirement already satisfied: kiwisolver>=1.3.1 in /home/dima/.local/lib/python3.10/site-packages (from matplotlib!=3.6.1,>=3.4->seaborn) (1.4.8)\n",
      "Requirement already satisfied: packaging>=20.0 in /home/dima/.local/lib/python3.10/site-packages (from matplotlib!=3.6.1,>=3.4->seaborn) (24.1)\n",
      "Requirement already satisfied: pillow>=8 in /home/dima/.local/lib/python3.10/site-packages (from matplotlib!=3.6.1,>=3.4->seaborn) (9.5.0)\n",
      "Requirement already satisfied: pyparsing>=2.3.1 in /home/dima/.local/lib/python3.10/site-packages (from matplotlib!=3.6.1,>=3.4->seaborn) (3.2.1)\n",
      "Requirement already satisfied: python-dateutil>=2.7 in /home/dima/.local/lib/python3.10/site-packages (from matplotlib!=3.6.1,>=3.4->seaborn) (2.9.0.post0)\n",
      "Requirement already satisfied: pytz>=2020.1 in /usr/lib/python3/dist-packages (from pandas>=1.2->seaborn) (2022.1)\n",
      "Requirement already satisfied: tzdata>=2022.7 in /home/dima/.local/lib/python3.10/site-packages (from pandas>=1.2->seaborn) (2024.2)\n",
      "Requirement already satisfied: six>=1.5 in /usr/lib/python3/dist-packages (from python-dateutil>=2.7->matplotlib!=3.6.1,>=3.4->seaborn) (1.16.0)\n",
      "\n",
      "\u001b[1m[\u001b[0m\u001b[34;49mnotice\u001b[0m\u001b[1;39;49m]\u001b[0m\u001b[39;49m A new release of pip is available: \u001b[0m\u001b[31;49m25.0.1\u001b[0m\u001b[39;49m -> \u001b[0m\u001b[32;49m25.1.1\u001b[0m\n",
      "\u001b[1m[\u001b[0m\u001b[34;49mnotice\u001b[0m\u001b[1;39;49m]\u001b[0m\u001b[39;49m To update, run: \u001b[0m\u001b[32;49mpython3 -m pip install --upgrade pip\u001b[0m\n",
      "Note: you may need to restart the kernel to use updated packages.\n"
     ]
    }
   ],
   "source": [
    "pip install seaborn"
   ]
  },
  {
   "cell_type": "code",
   "execution_count": 1,
   "id": "5b485460-17d5-49f6-88e7-a8624f3d8b4e",
   "metadata": {
    "collapsed": true,
    "jupyter": {
     "outputs_hidden": true
    },
    "scrolled": true
   },
   "outputs": [
    {
     "name": "stdout",
     "output_type": "stream",
     "text": [
      "Defaulting to user installation because normal site-packages is not writeable\n",
      "Requirement already satisfied: statsmodels in /home/dima/.local/lib/python3.10/site-packages (0.14.4)\n",
      "Requirement already satisfied: numpy<3,>=1.22.3 in /home/dima/.local/lib/python3.10/site-packages (from statsmodels) (2.2.4)\n",
      "Requirement already satisfied: scipy!=1.9.2,>=1.8 in /home/dima/.local/lib/python3.10/site-packages (from statsmodels) (1.15.1)\n",
      "Requirement already satisfied: pandas!=2.1.0,>=1.4 in /home/dima/.local/lib/python3.10/site-packages (from statsmodels) (2.2.3)\n",
      "Requirement already satisfied: patsy>=0.5.6 in /home/dima/.local/lib/python3.10/site-packages (from statsmodels) (1.0.1)\n",
      "Requirement already satisfied: packaging>=21.3 in /home/dima/.local/lib/python3.10/site-packages (from statsmodels) (24.1)\n",
      "Requirement already satisfied: python-dateutil>=2.8.2 in /home/dima/.local/lib/python3.10/site-packages (from pandas!=2.1.0,>=1.4->statsmodels) (2.9.0.post0)\n",
      "Requirement already satisfied: pytz>=2020.1 in /usr/lib/python3/dist-packages (from pandas!=2.1.0,>=1.4->statsmodels) (2022.1)\n",
      "Requirement already satisfied: tzdata>=2022.7 in /home/dima/.local/lib/python3.10/site-packages (from pandas!=2.1.0,>=1.4->statsmodels) (2024.2)\n",
      "Requirement already satisfied: six>=1.5 in /usr/lib/python3/dist-packages (from python-dateutil>=2.8.2->pandas!=2.1.0,>=1.4->statsmodels) (1.16.0)\n",
      "\n",
      "\u001b[1m[\u001b[0m\u001b[34;49mnotice\u001b[0m\u001b[1;39;49m]\u001b[0m\u001b[39;49m A new release of pip is available: \u001b[0m\u001b[31;49m25.0.1\u001b[0m\u001b[39;49m -> \u001b[0m\u001b[32;49m25.1.1\u001b[0m\n",
      "\u001b[1m[\u001b[0m\u001b[34;49mnotice\u001b[0m\u001b[1;39;49m]\u001b[0m\u001b[39;49m To update, run: \u001b[0m\u001b[32;49mpython3 -m pip install --upgrade pip\u001b[0m\n",
      "Note: you may need to restart the kernel to use updated packages.\n"
     ]
    }
   ],
   "source": [
    "pip install statsmodels"
   ]
  },
  {
   "cell_type": "markdown",
   "id": "66396967-1186-4fac-9ac8-0bf2b1f7bcf2",
   "metadata": {},
   "source": [
    "## Шаг 1. Загрузка данных"
   ]
  },
  {
   "cell_type": "markdown",
   "id": "ef2ce0c9-0351-44cd-a646-1153f89228d7",
   "metadata": {},
   "source": [
    "### Скачиваем датасет [InstaCart Online Grocery Basket Analysis Dataset](https://www.kaggle.com/datasets/yasserh/instacart-online-grocery-basket-analysis-dataset/data)"
   ]
  },
  {
   "cell_type": "code",
   "execution_count": 4,
   "id": "62552d6c-73d1-4fdb-b87f-b577f6715a41",
   "metadata": {},
   "outputs": [],
   "source": [
    "# Настройка прав доступа \n",
    "!chmod 600 ~/.kaggle/kaggle.json"
   ]
  },
  {
   "cell_type": "code",
   "execution_count": 1,
   "id": "204af7a7-46fd-41e6-aa6d-379fb45b586a",
   "metadata": {},
   "outputs": [
    {
     "name": "stdout",
     "output_type": "stream",
     "text": [
      "Dataset URL: https://www.kaggle.com/datasets/yasserh/instacart-online-grocery-basket-analysis-dataset\n",
      "License(s): CC0-1.0\n",
      "Downloading instacart-online-grocery-basket-analysis-dataset.zip to /home/dima/Desktop/itmo/mfdp\n",
      "  0%|                                                | 0.00/197M [00:00<?, ?B/s]\n",
      "100%|████████████████████████████████████████| 197M/197M [00:00<00:00, 2.80GB/s]\n"
     ]
    }
   ],
   "source": [
    "!kaggle datasets download -d \"yasserh/instacart-online-grocery-basket-analysis-dataset\""
   ]
  },
  {
   "cell_type": "code",
   "execution_count": 2,
   "id": "771586ba-3d63-4284-bc1d-7d5847f0f44b",
   "metadata": {},
   "outputs": [
    {
     "name": "stdout",
     "output_type": "stream",
     "text": [
      "Archive:  instacart-online-grocery-basket-analysis-dataset.zip\n",
      "  inflating: aisles.csv              \n",
      "  inflating: departments.csv         \n",
      "  inflating: order_products__prior.csv  \n",
      "  inflating: order_products__train.csv  \n",
      "  inflating: orders.csv              \n",
      "  inflating: products.csv            \n"
     ]
    }
   ],
   "source": [
    "!unzip instacart-online-grocery-basket-analysis-dataset.zip\n",
    "!rm instacart-online-grocery-basket-analysis-dataset.zip"
   ]
  },
  {
   "cell_type": "markdown",
   "id": "9787aa84-403e-4eaf-9a10-b5e0f0ba0c4d",
   "metadata": {},
   "source": [
    "## Шаг 2. EDA"
   ]
  },
  {
   "cell_type": "markdown",
   "id": "5f819548-aff6-4b73-a8b2-8adac3c92927",
   "metadata": {},
   "source": [
    "### Датасеты в переменные"
   ]
  },
  {
   "cell_type": "code",
   "execution_count": 3,
   "id": "ae031a19-8176-4298-9afe-ac3789a582d6",
   "metadata": {},
   "outputs": [
    {
     "name": "stdout",
     "output_type": "stream",
     "text": [
      "Файл order_products__prior.csv загружен в переменную order_products__prior\n",
      "Файл products.csv загружен в переменную products\n",
      "Файл orders.csv загружен в переменную orders\n",
      "Файл order_products__train.csv загружен в переменную order_products__train\n",
      "Файл aisles.csv загружен в переменную aisles\n",
      "Файл departments.csv загружен в переменную departments\n"
     ]
    }
   ],
   "source": [
    "import os\n",
    "import pandas as pd\n",
    "\n",
    "csv_files = [f for f in os.listdir() if f.endswith('.csv')]\n",
    "\n",
    "for file in csv_files:\n",
    "    var_name = file[:-4]  # Удаляем .csv\n",
    "    globals()[var_name] = pd.read_csv(file)\n",
    "    print(f'Файл {file} загружен в переменную {var_name}')"
   ]
  },
  {
   "cell_type": "markdown",
   "id": "e74e26d8-b03b-4f27-bbf0-edbd6066d038",
   "metadata": {
    "jp-MarkdownHeadingCollapsed": true
   },
   "source": [
    "### Смотрим на таблицы"
   ]
  },
  {
   "cell_type": "code",
   "execution_count": 2,
   "id": "8b0f974d-2a09-43e1-8f4e-3476e5ee73e6",
   "metadata": {},
   "outputs": [
    {
     "name": "stdout",
     "output_type": "stream",
     "text": [
      "order_products__prior \n",
      "\n",
      "|   order_id |   product_id |   add_to_cart_order |   reordered |\n",
      "|-----------:|-------------:|--------------------:|------------:|\n",
      "|          2 |        33120 |                   1 |           1 |\n",
      "|          2 |        28985 |                   2 |           1 |\n",
      "|          2 |         9327 |                   3 |           0 |\n",
      "|          2 |        45918 |                   4 |           1 |\n",
      "|          2 |        30035 |                   5 |           0 |\n",
      "products \n",
      "\n",
      "|   product_id | product_name                                                      |   aisle_id |   department_id |\n",
      "|-------------:|:------------------------------------------------------------------|-----------:|----------------:|\n",
      "|            1 | Chocolate Sandwich Cookies                                        |         61 |              19 |\n",
      "|            2 | All-Seasons Salt                                                  |        104 |              13 |\n",
      "|            3 | Robust Golden Unsweetened Oolong Tea                              |         94 |               7 |\n",
      "|            4 | Smart Ones Classic Favorites Mini Rigatoni With Vodka Cream Sauce |         38 |               1 |\n",
      "|            5 | Green Chile Anytime Sauce                                         |          5 |              13 |\n",
      "orders \n",
      "\n",
      "|   order_id |   user_id | eval_set   |   order_number |   order_dow |   order_hour_of_day |   days_since_prior_order |\n",
      "|-----------:|----------:|:-----------|---------------:|------------:|--------------------:|-------------------------:|\n",
      "|    2539329 |         1 | prior      |              1 |           2 |                   8 |                      nan |\n",
      "|    2398795 |         1 | prior      |              2 |           3 |                   7 |                       15 |\n",
      "|     473747 |         1 | prior      |              3 |           3 |                  12 |                       21 |\n",
      "|    2254736 |         1 | prior      |              4 |           4 |                   7 |                       29 |\n",
      "|     431534 |         1 | prior      |              5 |           4 |                  15 |                       28 |\n",
      "order_products__train \n",
      "\n",
      "|   order_id |   product_id |   add_to_cart_order |   reordered |\n",
      "|-----------:|-------------:|--------------------:|------------:|\n",
      "|          1 |        49302 |                   1 |           1 |\n",
      "|          1 |        11109 |                   2 |           1 |\n",
      "|          1 |        10246 |                   3 |           0 |\n",
      "|          1 |        49683 |                   4 |           0 |\n",
      "|          1 |        43633 |                   5 |           1 |\n",
      "aisles \n",
      "\n",
      "|   aisle_id | aisle                      |\n",
      "|-----------:|:---------------------------|\n",
      "|          1 | prepared soups salads      |\n",
      "|          2 | specialty cheeses          |\n",
      "|          3 | energy granola bars        |\n",
      "|          4 | instant foods              |\n",
      "|          5 | marinades meat preparation |\n",
      "departments \n",
      "\n",
      "|   department_id | department   |\n",
      "|----------------:|:-------------|\n",
      "|               1 | frozen       |\n",
      "|               2 | other        |\n",
      "|               3 | bakery       |\n",
      "|               4 | produce      |\n",
      "|               5 | alcohol      |\n"
     ]
    }
   ],
   "source": [
    "from tabulate import tabulate\n",
    "\n",
    "print('order_products__prior \\n')\n",
    "print(tabulate(order_products__prior.head(), headers='keys', tablefmt='pipe', showindex=False))\n",
    "print('products \\n')\n",
    "print(tabulate(products.head(), headers='keys', tablefmt='pipe', showindex=False))\n",
    "print('orders \\n')\n",
    "print(tabulate(orders.head(), headers='keys', tablefmt='pipe', showindex=False))\n",
    "print('order_products__train \\n')\n",
    "print(tabulate(order_products__train.head(), headers='keys', tablefmt='pipe', showindex=False))\n",
    "print('aisles \\n')\n",
    "print(tabulate(aisles.head(), headers='keys', tablefmt='pipe', showindex=False))\n",
    "print('departments \\n')\n",
    "print(tabulate(departments.head(), headers='keys', tablefmt='pipe', showindex=False))"
   ]
  },
  {
   "cell_type": "markdown",
   "id": "ed2a01c5-1cf3-43a3-a793-9062ebc943ed",
   "metadata": {},
   "source": [
    "**Таблицы и их поля:**\n",
    "\n",
    "1. **order_products__prior**  \n",
    "   - `order_id`: ID заказа.  \n",
    "   - `product_id`: ID товара.  \n",
    "   - `add_to_cart_order`: Порядок добавления товара в корзину\n",
    "   - `reordered`: Флаг (1/0), был ли товар перезаказан (ранее покупался пользователем)\n",
    "\n",
    "2. **order_products__train**  \n",
    "   - Аналогична **order_products__prior**, но для обучающего набора данных\n",
    "\n",
    "3. **products**  \n",
    "   - `product_id`: ID товара\n",
    "   - `product_name`: Название товара.  \n",
    "   - `aisle_id`: ID категории товара (связь с таблицей *aisles*)\n",
    "   - `department_id`: ID отдела (связь с таблицей *departments*)\n",
    "\n",
    "4. **orders**  \n",
    "   - `order_id`: ID заказа\n",
    "   - `user_id`: ID пользователя\n",
    "   - `eval_set`: Тип набора данных (prior/train/test)\n",
    "   - `order_number`: Порядковый номер заказа пользователя\n",
    "   - `order_dow`: День недели оформления заказа (0-6)\n",
    "   - `order_hour_of_day`: Час оформления заказа (0-23) \n",
    "   - `days_since_prior_order`: Дней с момента предыдущего заказа (NaN для первого заказа) \n",
    "\n",
    " \n",
    "5. **aisles**  \n",
    "   - `aisle_id`: ID категории товаров\n",
    "   - `aisle`: Название категории\n",
    "\n",
    "6. **departments**  \n",
    "   - `department_id`: ID отдела.  \n",
    "   - `department`: Название отдела (например, \"замороженные продукты\")\n",
    "\n",
    "---\n",
    "\n",
    "**Связи:**  \n",
    "- `products.aisle_id` → `aisles.aisle_id`  \n",
    "- `products.department_id` → `departments.department_id`  \n",
    "- `order_products__prior/order_products__train.product_id` → `products.product_id`  \n",
    "- `order_products__prior/order_products__train.order_id` → `orders.order_id`"
   ]
  },
  {
   "cell_type": "markdown",
   "id": "540b4038-ea97-4e31-915a-3633ecfc6841",
   "metadata": {
    "jp-MarkdownHeadingCollapsed": true
   },
   "source": [
    "### Первичный анализ"
   ]
  },
  {
   "cell_type": "code",
   "execution_count": 18,
   "id": "2dd82809-7c27-4b28-b078-2fb75db9cd4d",
   "metadata": {},
   "outputs": [
    {
     "name": "stdout",
     "output_type": "stream",
     "text": [
      "\n",
      "Orders:\n",
      "Строки: 3421083, Колонки: 7\n",
      "Пример данных:\n"
     ]
    },
    {
     "data": {
      "text/html": [
       "<div>\n",
       "<style scoped>\n",
       "    .dataframe tbody tr th:only-of-type {\n",
       "        vertical-align: middle;\n",
       "    }\n",
       "\n",
       "    .dataframe tbody tr th {\n",
       "        vertical-align: top;\n",
       "    }\n",
       "\n",
       "    .dataframe thead th {\n",
       "        text-align: right;\n",
       "    }\n",
       "</style>\n",
       "<table border=\"1\" class=\"dataframe\">\n",
       "  <thead>\n",
       "    <tr style=\"text-align: right;\">\n",
       "      <th></th>\n",
       "      <th>order_id</th>\n",
       "      <th>user_id</th>\n",
       "      <th>eval_set</th>\n",
       "      <th>order_number</th>\n",
       "      <th>order_dow</th>\n",
       "      <th>order_hour_of_day</th>\n",
       "      <th>days_since_prior_order</th>\n",
       "    </tr>\n",
       "  </thead>\n",
       "  <tbody>\n",
       "    <tr>\n",
       "      <th>0</th>\n",
       "      <td>2539329</td>\n",
       "      <td>1</td>\n",
       "      <td>prior</td>\n",
       "      <td>1</td>\n",
       "      <td>2</td>\n",
       "      <td>8</td>\n",
       "      <td>NaN</td>\n",
       "    </tr>\n",
       "    <tr>\n",
       "      <th>1</th>\n",
       "      <td>2398795</td>\n",
       "      <td>1</td>\n",
       "      <td>prior</td>\n",
       "      <td>2</td>\n",
       "      <td>3</td>\n",
       "      <td>7</td>\n",
       "      <td>15.0</td>\n",
       "    </tr>\n",
       "  </tbody>\n",
       "</table>\n",
       "</div>"
      ],
      "text/plain": [
       "   order_id  user_id eval_set  order_number  order_dow  order_hour_of_day  \\\n",
       "0   2539329        1    prior             1          2                  8   \n",
       "1   2398795        1    prior             2          3                  7   \n",
       "\n",
       "   days_since_prior_order  \n",
       "0                     NaN  \n",
       "1                    15.0  "
      ]
     },
     "metadata": {},
     "output_type": "display_data"
    },
    {
     "name": "stdout",
     "output_type": "stream",
     "text": [
      "\n",
      "Пропуски:\n",
      "order_id                       0\n",
      "user_id                        0\n",
      "eval_set                       0\n",
      "order_number                   0\n",
      "order_dow                      0\n",
      "order_hour_of_day              0\n",
      "days_since_prior_order    206209\n",
      "dtype: int64\n",
      "\n",
      "Дубликаты: 0\n",
      "\n",
      "Products:\n",
      "Строки: 49688, Колонки: 4\n",
      "Пример данных:\n"
     ]
    },
    {
     "data": {
      "text/html": [
       "<div>\n",
       "<style scoped>\n",
       "    .dataframe tbody tr th:only-of-type {\n",
       "        vertical-align: middle;\n",
       "    }\n",
       "\n",
       "    .dataframe tbody tr th {\n",
       "        vertical-align: top;\n",
       "    }\n",
       "\n",
       "    .dataframe thead th {\n",
       "        text-align: right;\n",
       "    }\n",
       "</style>\n",
       "<table border=\"1\" class=\"dataframe\">\n",
       "  <thead>\n",
       "    <tr style=\"text-align: right;\">\n",
       "      <th></th>\n",
       "      <th>product_id</th>\n",
       "      <th>product_name</th>\n",
       "      <th>aisle_id</th>\n",
       "      <th>department_id</th>\n",
       "    </tr>\n",
       "  </thead>\n",
       "  <tbody>\n",
       "    <tr>\n",
       "      <th>0</th>\n",
       "      <td>1</td>\n",
       "      <td>Chocolate Sandwich Cookies</td>\n",
       "      <td>61</td>\n",
       "      <td>19</td>\n",
       "    </tr>\n",
       "    <tr>\n",
       "      <th>1</th>\n",
       "      <td>2</td>\n",
       "      <td>All-Seasons Salt</td>\n",
       "      <td>104</td>\n",
       "      <td>13</td>\n",
       "    </tr>\n",
       "  </tbody>\n",
       "</table>\n",
       "</div>"
      ],
      "text/plain": [
       "   product_id                product_name  aisle_id  department_id\n",
       "0           1  Chocolate Sandwich Cookies        61             19\n",
       "1           2            All-Seasons Salt       104             13"
      ]
     },
     "metadata": {},
     "output_type": "display_data"
    },
    {
     "name": "stdout",
     "output_type": "stream",
     "text": [
      "\n",
      "Пропуски:\n",
      "product_id       0\n",
      "product_name     0\n",
      "aisle_id         0\n",
      "department_id    0\n",
      "dtype: int64\n",
      "\n",
      "Дубликаты: 0\n",
      "\n",
      "Order Products Prior:\n",
      "Строки: 32434489, Колонки: 4\n",
      "Пример данных:\n"
     ]
    },
    {
     "data": {
      "text/html": [
       "<div>\n",
       "<style scoped>\n",
       "    .dataframe tbody tr th:only-of-type {\n",
       "        vertical-align: middle;\n",
       "    }\n",
       "\n",
       "    .dataframe tbody tr th {\n",
       "        vertical-align: top;\n",
       "    }\n",
       "\n",
       "    .dataframe thead th {\n",
       "        text-align: right;\n",
       "    }\n",
       "</style>\n",
       "<table border=\"1\" class=\"dataframe\">\n",
       "  <thead>\n",
       "    <tr style=\"text-align: right;\">\n",
       "      <th></th>\n",
       "      <th>order_id</th>\n",
       "      <th>product_id</th>\n",
       "      <th>add_to_cart_order</th>\n",
       "      <th>reordered</th>\n",
       "    </tr>\n",
       "  </thead>\n",
       "  <tbody>\n",
       "    <tr>\n",
       "      <th>0</th>\n",
       "      <td>2</td>\n",
       "      <td>33120</td>\n",
       "      <td>1</td>\n",
       "      <td>1</td>\n",
       "    </tr>\n",
       "    <tr>\n",
       "      <th>1</th>\n",
       "      <td>2</td>\n",
       "      <td>28985</td>\n",
       "      <td>2</td>\n",
       "      <td>1</td>\n",
       "    </tr>\n",
       "  </tbody>\n",
       "</table>\n",
       "</div>"
      ],
      "text/plain": [
       "   order_id  product_id  add_to_cart_order  reordered\n",
       "0         2       33120                  1          1\n",
       "1         2       28985                  2          1"
      ]
     },
     "metadata": {},
     "output_type": "display_data"
    },
    {
     "name": "stdout",
     "output_type": "stream",
     "text": [
      "\n",
      "Пропуски:\n",
      "order_id             0\n",
      "product_id           0\n",
      "add_to_cart_order    0\n",
      "reordered            0\n",
      "dtype: int64\n",
      "\n",
      "Дубликаты: 0\n",
      "\n",
      "Order Products Train:\n",
      "Строки: 1384617, Колонки: 4\n",
      "Пример данных:\n"
     ]
    },
    {
     "data": {
      "text/html": [
       "<div>\n",
       "<style scoped>\n",
       "    .dataframe tbody tr th:only-of-type {\n",
       "        vertical-align: middle;\n",
       "    }\n",
       "\n",
       "    .dataframe tbody tr th {\n",
       "        vertical-align: top;\n",
       "    }\n",
       "\n",
       "    .dataframe thead th {\n",
       "        text-align: right;\n",
       "    }\n",
       "</style>\n",
       "<table border=\"1\" class=\"dataframe\">\n",
       "  <thead>\n",
       "    <tr style=\"text-align: right;\">\n",
       "      <th></th>\n",
       "      <th>order_id</th>\n",
       "      <th>product_id</th>\n",
       "      <th>add_to_cart_order</th>\n",
       "      <th>reordered</th>\n",
       "    </tr>\n",
       "  </thead>\n",
       "  <tbody>\n",
       "    <tr>\n",
       "      <th>0</th>\n",
       "      <td>1</td>\n",
       "      <td>49302</td>\n",
       "      <td>1</td>\n",
       "      <td>1</td>\n",
       "    </tr>\n",
       "    <tr>\n",
       "      <th>1</th>\n",
       "      <td>1</td>\n",
       "      <td>11109</td>\n",
       "      <td>2</td>\n",
       "      <td>1</td>\n",
       "    </tr>\n",
       "  </tbody>\n",
       "</table>\n",
       "</div>"
      ],
      "text/plain": [
       "   order_id  product_id  add_to_cart_order  reordered\n",
       "0         1       49302                  1          1\n",
       "1         1       11109                  2          1"
      ]
     },
     "metadata": {},
     "output_type": "display_data"
    },
    {
     "name": "stdout",
     "output_type": "stream",
     "text": [
      "\n",
      "Пропуски:\n",
      "order_id             0\n",
      "product_id           0\n",
      "add_to_cart_order    0\n",
      "reordered            0\n",
      "dtype: int64\n",
      "\n",
      "Дубликаты: 0\n"
     ]
    }
   ],
   "source": [
    "import pandas as pd\n",
    "import matplotlib.pyplot as plt\n",
    "import seaborn as sns\n",
    "import numpy as np\n",
    "\n",
    "# 1. Предварительный анализ структуры данных\n",
    "def print_basic_stats(df, name):\n",
    "    print(f\"\\n{name}:\")\n",
    "    print(f\"Строки: {df.shape[0]}, Колонки: {df.shape[1]}\")\n",
    "    print(\"Пример данных:\")\n",
    "    display(df.head(2))\n",
    "    print(\"\\nПропуски:\")\n",
    "    print(df.isnull().sum())\n",
    "    print(\"\\nДубликаты:\", df.duplicated().sum())\n",
    "\n",
    "print_basic_stats(orders, 'Orders')\n",
    "print_basic_stats(products, 'Products')\n",
    "print_basic_stats(order_products__prior, 'Order Products Prior')\n",
    "print_basic_stats(order_products__train, 'Order Products Train')"
   ]
  },
  {
   "cell_type": "markdown",
   "id": "7a10f506-bbf5-4623-bc38-0d8471da094d",
   "metadata": {
    "jp-MarkdownHeadingCollapsed": true
   },
   "source": [
    "### Визуализация"
   ]
  },
  {
   "cell_type": "code",
   "execution_count": 42,
   "id": "37745d8e-0c37-4388-ac1e-012816f5f6ab",
   "metadata": {},
   "outputs": [
    {
     "data": {
      "image/png": "[encoded data removed]",
      "text/plain": [
       "<Figure size 1500x500 with 2 Axes>"
      ]
     },
     "metadata": {},
     "output_type": "display_data"
    }
   ],
   "source": [
    "# 2. Анализ заказов (orders)\n",
    "plt.figure(figsize=(15, 5))\n",
    "\n",
    "plt.subplot(1, 2, 1)\n",
    "sns.countplot(x='order_dow', data=orders)\n",
    "plt.title('Распределение заказов по дням недели')\n",
    "\n",
    "plt.subplot(1, 2, 2)\n",
    "sns.countplot(x='order_hour_of_day', data=orders)\n",
    "plt.title('Распределение заказов по часам дня')\n",
    "plt.show()"
   ]
  },
  {
   "cell_type": "code",
   "execution_count": 41,
   "id": "bd560293-5f72-4c37-a576-bfb705f2944b",
   "metadata": {},
   "outputs": [
    {
     "data": {
      "text/plain": [
       "Text(0.5, 0, 'Дней')"
      ]
     },
     "execution_count": 41,
     "metadata": {},
     "output_type": "execute_result"
    },
    {
     "data": {
      "image/png": "[encoded data removed]",
      "text/plain": [
       "<Figure size 700x400 with 1 Axes>"
      ]
     },
     "metadata": {},
     "output_type": "display_data"
    }
   ],
   "source": [
    "plt.figure(figsize=(7, 4))\n",
    "sns.histplot(orders['days_since_prior_order'].dropna(), bins=30, kde=True)\n",
    "plt.title('Дней между заказами')\n",
    "plt.xlabel('Дней')"
   ]
  },
  {
   "cell_type": "code",
   "execution_count": 40,
   "id": "920736d4-f7a2-4a19-994c-007a3718b31a",
   "metadata": {},
   "outputs": [
    {
     "data": {
      "text/plain": [
       "Text(0.5, 1.0, 'Топ-10 товаров')"
      ]
     },
     "execution_count": 40,
     "metadata": {},
     "output_type": "execute_result"
    },
    {
     "data": {
      "image/png": "[encoded data removed]",
      "text/plain": [
       "<Figure size 700x400 with 1 Axes>"
      ]
     },
     "metadata": {},
     "output_type": "display_data"
    }
   ],
   "source": [
    "# 3. Анализ товаров в заказах\n",
    "# Объединим данные о товарах с информацией о продуктах\n",
    "full_prior = order_products__prior.merge(products, on='product_id').merge(aisles, on='aisle_id').merge(departments, on='department_id')\n",
    "\n",
    "# Топ-10 самых популярных товаров\n",
    "top_products = full_prior['product_name'].value_counts().head(10)\n",
    "plt.figure(figsize=(7, 4))\n",
    "sns.barplot(x=top_products.values, y=top_products.index)\n",
    "plt.title('Топ-10 товаров')"
   ]
  },
  {
   "cell_type": "code",
   "execution_count": 39,
   "id": "9968cb6a-21aa-47dc-b238-98a6f94755fc",
   "metadata": {},
   "outputs": [
    {
     "data": {
      "text/plain": [
       "Text(0.5, 0, '% Reordered')"
      ]
     },
     "execution_count": 39,
     "metadata": {},
     "output_type": "execute_result"
    },
    {
     "data": {
      "image/png": "[encoded data removed]",
      "text/plain": [
       "<Figure size 700x400 with 1 Axes>"
      ]
     },
     "metadata": {},
     "output_type": "display_data"
    }
   ],
   "source": [
    "reorder_by_aisle = full_prior.groupby('aisle')['reordered'].mean().sort_values(ascending=False).head(10)\n",
    "plt.figure(figsize=(7, 4))\n",
    "sns.barplot(x=reorder_by_aisle.values, y=reorder_by_aisle.index)\n",
    "plt.title('Топ-10 категорий по проценту перезаказов')\n",
    "plt.xlabel('% Reordered')"
   ]
  },
  {
   "cell_type": "code",
   "execution_count": 33,
   "id": "5247b6f4-31a3-4263-9109-6fe9ea4ac3c3",
   "metadata": {},
   "outputs": [],
   "source": [
    "# 5. Анализ пользователей\n",
    "user_analysis = orders.groupby('user_id').agg({\n",
    "    'order_id': 'nunique',\n",
    "    'days_since_prior_order': ['mean', 'max']\n",
    "}).rename(columns={'order_id': 'total_orders'})"
   ]
  },
  {
   "cell_type": "code",
   "execution_count": 34,
   "id": "2139fd69-db08-4be3-a90e-cd6479075ca4",
   "metadata": {},
   "outputs": [
    {
     "data": {
      "text/plain": [
       "Text(0.5, 1.0, 'Распределение количества заказов на пользователя')"
      ]
     },
     "execution_count": 34,
     "metadata": {},
     "output_type": "execute_result"
    },
    {
     "data": {
      "image/png": "[encoded data removed]",
      "text/plain": [
       "<Figure size 1200x400 with 1 Axes>"
      ]
     },
     "metadata": {},
     "output_type": "display_data"
    }
   ],
   "source": [
    "plt.figure(figsize=(12, 4))\n",
    "plt.subplot(1, 2, 1)\n",
    "sns.histplot(user_analysis[('total_orders', 'nunique')], bins=30)\n",
    "plt.title('Распределение количества заказов на пользователя')"
   ]
  },
  {
   "cell_type": "markdown",
   "id": "0a23f21e-5b45-4481-9b90-0d7e728cfdbf",
   "metadata": {},
   "source": [
    "### Формируем датасеты"
   ]
  },
  {
   "cell_type": "code",
   "execution_count": 4,
   "id": "cf322267-5b03-4cb3-8699-94bb09b940b1",
   "metadata": {},
   "outputs": [
    {
     "name": "stdout",
     "output_type": "stream",
     "text": [
      "Дубликаты в Prior: 0\n",
      "Дубликаты в Train: 0\n",
      "\n",
      "Размеры данных:\n",
      "Prior: (32434489, 14)\n",
      "Train: (1384617, 14)\n",
      "Test:  (75000, 6)\n"
     ]
    }
   ],
   "source": [
    "import pandas as pd\n",
    "import numpy as np\n",
    "\n",
    "# ==============================================================\n",
    "# 1. Разделение заказов (orders) на prior/train/test\n",
    "# ==============================================================\n",
    "prior_orders = orders[orders['eval_set'] == 'prior']\n",
    "train_orders = orders[orders['eval_set'] == 'train']\n",
    "test_orders = orders[orders['eval_set'] == 'test']\n",
    "\n",
    "# ==============================================================\n",
    "# 2. Объединение с товарами для каждого набора отдельно\n",
    "# ==============================================================\n",
    "def merge_orders_with_products(orders_df, products_df, dataset_type):\n",
    "    # Выбираем соответствующие товары (prior/train)\n",
    "    if dataset_type == 'prior':\n",
    "        order_products = order_products__prior\n",
    "    elif dataset_type == 'train':\n",
    "        order_products = order_products__train\n",
    "    else:\n",
    "        return None \n",
    "\n",
    "    # Соединяем заказы с товарами\n",
    "    merged = orders_df.merge(\n",
    "        order_products,\n",
    "        on='order_id',\n",
    "        how='inner'\n",
    "    )\n",
    "    \n",
    "    # Добавляем информацию о продуктах, отделах и категориях\n",
    "    merged = merged.merge(products, on='product_id', how='left')\n",
    "    merged = merged.merge(aisles, on='aisle_id', how='left')\n",
    "    merged = merged.merge(departments, on='department_id', how='left')\n",
    "    \n",
    "    # Удаляем ненужное поле\n",
    "    merged = merged.drop('eval_set', axis=1)\n",
    "    return merged\n",
    "\n",
    "# Обрабатываем каждый набор\n",
    "prior_data = merge_orders_with_products(prior_orders, order_products__prior, 'prior')\n",
    "train_data = merge_orders_with_products(train_orders, order_products__train, 'train')\n",
    "test_data = test_orders.drop('eval_set', axis=1)  # test без товаров\n",
    "\n",
    "# ==============================================================\n",
    "# 3. Проверка дубликатов (для каждого набора отдельно)\n",
    "# ==============================================================\n",
    "for name, data in [('Prior', prior_data), ('Train', train_data)]:\n",
    "    duplicates = data.duplicated(subset=['order_id', 'product_id']).sum()\n",
    "    print(f\"Дубликаты в {name}: {duplicates}\")\n",
    "\n",
    "# ==============================================================\n",
    "# Результат: отдельные датафреймы для ML\n",
    "# ==============================================================\n",
    "print(\"\\nРазмеры данных:\")\n",
    "print(f\"Prior: {prior_data.shape}\")\n",
    "print(f\"Train: {train_data.shape}\")\n",
    "print(f\"Test:  {test_data.shape}\")"
   ]
  },
  {
   "cell_type": "markdown",
   "id": "3d3b1cd0-8f9f-41e3-b643-43de424af68d",
   "metadata": {},
   "source": [
    "## Шаг 3. BaseLine"
   ]
  },
  {
   "cell_type": "markdown",
   "id": "20b28f44-6db9-43e8-8234-7c970f0683c0",
   "metadata": {},
   "source": [
    "### Popularity-Based Recommendations\n",
    "\n",
    "Метрики:\n",
    "- precision@10: 0.0725\n",
    "- recall@10: 0.0698\n",
    "- hit_rate@10: 0.4584"
   ]
  },
  {
   "cell_type": "code",
   "execution_count": 5,
   "id": "6b06652a-aace-4938-89bd-c36c33e6f51e",
   "metadata": {},
   "outputs": [],
   "source": [
    "import pandas as pd\n",
    "import numpy as np\n",
    "\n",
    "# 1. Формирование топа популярных товаров на основе prior_data\n",
    "def get_popular_products(prior_data, top_n=10):\n",
    "    # Считаем количество заказов, в которых был каждый товар\n",
    "    product_popularity = prior_data.groupby('product_id')['order_id'].nunique().reset_index()\n",
    "    product_popularity.columns = ['product_id', 'popularity_score']\n",
    "    \n",
    "    # Сортируем по популярности и берем топ-N\n",
    "    top_products = product_popularity.sort_values('popularity_score', ascending=False).head(top_n)\n",
    "    return top_products['product_id'].tolist()\n",
    "\n",
    "# Топ-10 популярных товаров\n",
    "top10_products = get_popular_products(prior_data, top_n=10)"
   ]
  },
  {
   "cell_type": "code",
   "execution_count": 15,
   "id": "ad13a51d-d594-46b0-804e-4f649d43b414",
   "metadata": {},
   "outputs": [],
   "source": [
    "# 2. Подготовка тестовых данных (используем train_data для оценки)\n",
    "max_order_per_user = train_data.groupby('user_id')['order_number'].max().reset_index()\n",
    "merged = train_data.merge(max_order_per_user, on=['user_id', 'order_number'])\n",
    "test_data = merged.groupby('user_id')['product_id'].apply(list).reset_index()\n",
    "test_data.columns = ['user_id', 'actual']"
   ]
  },
  {
   "cell_type": "code",
   "execution_count": 8,
   "id": "3cd8db21-9246-4711-9848-b3eb29daffa8",
   "metadata": {},
   "outputs": [],
   "source": [
    "# 3. Генерация рекомендаций для всех пользователей\n",
    "test_data['predicted'] = [top10_products] * len(test_data)"
   ]
  },
  {
   "cell_type": "code",
   "execution_count": 9,
   "id": "8c0a550a-cd21-411d-8da2-245e0025daf9",
   "metadata": {},
   "outputs": [],
   "source": [
    "# 4. Расчет метрик\n",
    "def calculate_metrics(test_data, all_products, top_n=10):\n",
    "    # Precision@10, Recall@10, Hit Rate@10\n",
    "    precisions = []\n",
    "    recalls = []\n",
    "    hits = []\n",
    "    \n",
    "    for _, row in test_data.iterrows():\n",
    "        actual = set(row['actual'])\n",
    "        predicted = set(row['predicted'][:top_n])\n",
    "        \n",
    "        # Совпадения\n",
    "        common = actual & predicted\n",
    "        \n",
    "        # Precision: сколько из рекомендованных релевантны\n",
    "        prec = len(common) / top_n if top_n > 0 else 0\n",
    "        precisions.append(prec)\n",
    "        \n",
    "        # Recall: сколько релевантных найдено\n",
    "        rec = len(common) / len(actual) if len(actual) > 0 else 0\n",
    "        recalls.append(rec)\n",
    "        \n",
    "        # Hit Rate: был ли хотя бы один релевантный\n",
    "        hits.append(1 if len(common) > 0 else 0)\n",
    "    \n",
    "    \n",
    "    return {\n",
    "        'precision@10': np.mean(precisions),\n",
    "        'recall@10': np.mean(recalls),\n",
    "        'hit_rate@10': np.mean(hits),\n",
    "    }"
   ]
  },
  {
   "cell_type": "code",
   "execution_count": 11,
   "id": "951d7859-7f27-4ba1-a570-6e1f09be6ef0",
   "metadata": {},
   "outputs": [
    {
     "name": "stdout",
     "output_type": "stream",
     "text": [
      "\n",
      "Оценка рекомендательной системы:\n",
      "Precision@10: 0.0725\n",
      "Recall@10:    0.0698\n",
      "Hit Rate@10:  0.4584\n"
     ]
    }
   ],
   "source": [
    "# Уникальные товары в каталоге\n",
    "all_products = prior_data['product_id'].unique()\n",
    "\n",
    "# Расчет метрик\n",
    "metrics = calculate_metrics(test_data, all_products)\n",
    "print(\"\\nОценка рекомендательной системы:\")\n",
    "print(f\"Precision@10: {metrics['precision@10']:.4f}\")\n",
    "print(f\"Recall@10:    {metrics['recall@10']:.4f}\")\n",
    "print(f\"Hit Rate@10:  {metrics['hit_rate@10']:.4f}\")"
   ]
  },
  {
   "cell_type": "markdown",
   "id": "406af18c-788f-44fa-aa9d-bb0cd97627fd",
   "metadata": {},
   "source": [
    "### Коллаборативная фильтрация (Item-Based)\n",
    "Метрики:\n",
    "- precision@10: 0.0200\n",
    "- recall@10: 0.0192\n",
    "- hit_rate@10: 0.1624"
   ]
  },
  {
   "cell_type": "code",
   "execution_count": 17,
   "id": "2bb1ec29-1744-467c-b1d8-e0828fabfe63",
   "metadata": {},
   "outputs": [],
   "source": [
    "import pandas as pd\n",
    "import numpy as np\n",
    "from scipy.sparse import csr_matrix, lil_matrix\n",
    "from sklearn.metrics.pairwise import cosine_similarity\n",
    "from tqdm import tqdm\n",
    "\n",
    "# 1. Подготовка данных\n",
    "def prepare_data(prior_data, train_data):\n",
    "    # Используем только пользователей из train_data\n",
    "    train_user_ids = train_data['user_id'].unique()\n",
    "    prior_filtered = prior_data[prior_data['user_id'].isin(train_user_ids)].copy()\n",
    "    \n",
    "    # Fallback: Топ популярных товаров\n",
    "    global top_fallback\n",
    "    top_fallback = prior_data['product_id'].value_counts().head(10).index.tolist()\n",
    "    \n",
    "    # Маппинги\n",
    "    unique_users = np.unique(list(prior_filtered['user_id']) + list(train_data['user_id']))\n",
    "    unique_products = prior_filtered['product_id'].unique()\n",
    "    \n",
    "    user_to_idx = {user: idx for idx, user in enumerate(unique_users)}\n",
    "    product_to_idx = {product: idx for idx, product in enumerate(unique_products)}\n",
    "\n",
    "    # Создаем test_users с последними заказами\n",
    "    max_order_per_user = train_data.groupby('user_id')['order_number'].max().reset_index()\n",
    "    merged = train_data.merge(max_order_per_user, on=['user_id', 'order_number'])\n",
    "    test_users = merged.groupby('user_id')['product_id'].apply(list).reset_index()\n",
    "    test_users.columns = ['user_id', 'actual']\n",
    "    \n",
    "    return prior_filtered, user_to_idx, product_to_idx, unique_products, test_users\n",
    "\n",
    "\n",
    "prior_filtered, user_map, product_map, unique_products, test_users = prepare_data(prior_data, train_data)"
   ]
  },
  {
   "cell_type": "code",
   "execution_count": 18,
   "id": "cc66a640-d218-469f-bb81-3014911db287",
   "metadata": {},
   "outputs": [
    {
     "name": "stderr",
     "output_type": "stream",
     "text": [
      "100%|██████████████████████████████| 8474661/8474661 [02:33<00:00, 55152.66it/s]\n"
     ]
    }
   ],
   "source": [
    "# 2. Создание разреженной матрицы (учитываем частоту покупок)\n",
    "def create_weighted_sparse_matrix(prior_filtered, user_map, product_map):\n",
    "    matrix = lil_matrix((len(user_map), len(product_map)), dtype=np.float32)\n",
    "    \n",
    "    # Группируем данные по пользователям и товарам, считаем количество покупок\n",
    "    user_product_counts = prior_filtered.groupby(['user_id', 'product_id']).size().reset_index(name='count')\n",
    "    \n",
    "    for _, row in tqdm(user_product_counts.iterrows(), total=len(user_product_counts)):\n",
    "        try:\n",
    "            user_idx = user_map[row['user_id']]\n",
    "            product_idx = product_map[row['product_id']]\n",
    "            matrix[user_idx, product_idx] = row['count']  # Взвешиваем по количеству\n",
    "        except KeyError:\n",
    "            continue\n",
    "            \n",
    "    return matrix.tocsr()\n",
    "\n",
    "sparse_matrix = create_weighted_sparse_matrix(prior_filtered, user_map, product_map)"
   ]
  },
  {
   "cell_type": "code",
   "execution_count": 19,
   "id": "a39b6642-8172-4208-a3f0-14db755a2734",
   "metadata": {},
   "outputs": [
    {
     "name": "stderr",
     "output_type": "stream",
     "text": [
      "100%|████████████████████████████████████| 49468/49468 [00:59<00:00, 827.60it/s]\n"
     ]
    }
   ],
   "source": [
    "# 3. Расчет схожестей\n",
    "def calculate_weighted_similarities(matrix, top_k=300):\n",
    "    # TF-IDF нормализация\n",
    "    tfidf_matrix = matrix.copy()\n",
    "    idf = np.log(matrix.shape[0] / (1 + matrix.getnnz(axis=0)))\n",
    "    tfidf_matrix = tfidf_matrix.multiply(idf)\n",
    "    \n",
    "    # Косинусная схожесть\n",
    "    item_similarity = cosine_similarity(tfidf_matrix.T, dense_output=False)\n",
    "    \n",
    "    # Топ-K схожих товаров\n",
    "    similarities = {}\n",
    "    for i in tqdm(range(item_similarity.shape[0])):\n",
    "        row = item_similarity[i].toarray().ravel()\n",
    "        top_indices = np.argsort(row)[-top_k:][::-1]\n",
    "        similarities[i] = top_indices\n",
    "        \n",
    "    return similarities\n",
    "\n",
    "similarities = calculate_weighted_similarities(sparse_matrix)"
   ]
  },
  {
   "cell_type": "code",
   "execution_count": 20,
   "id": "7334ba19-0f48-4694-8d90-c276c445bc35",
   "metadata": {
    "scrolled": true
   },
   "outputs": [],
   "source": [
    "# 4. Генерация рекомендаций\n",
    "idx_to_product = {v: k for k, v in product_map.items()}\n",
    "\n",
    "def generate_recommendations_batch(user_ids, user_map, sparse_matrix, similarities, idx_to_product, top_fallback):\n",
    "    recommendations = []\n",
    "    \n",
    "    # Предварительно вычисляем все purchased_indices\n",
    "    user_indices = [user_map.get(uid, -1) for uid in user_ids]\n",
    "    purchased = [sparse_matrix[ui].indices if ui != -1 else np.array([]) for ui in user_indices]  # Исправлено здесь\n",
    "    \n",
    "    # Векторизованные вычисления\n",
    "    for i, (uid, purchased_indices) in enumerate(zip(user_ids, purchased)):\n",
    "        if purchased_indices.size == 0:  # Правильная проверка для numpy array\n",
    "            recommendations.append(top_fallback)\n",
    "            continue\n",
    "            \n",
    "        sim_scores = np.zeros(sparse_matrix.shape[1])\n",
    "        for prod_idx in purchased_indices:\n",
    "            sim_scores[similarities[prod_idx]] += 1\n",
    "            \n",
    "        sim_scores[purchased_indices] = 0\n",
    "        top_indices = np.argsort(-sim_scores)[:10]\n",
    "        recs = [idx_to_product[idx] for idx in top_indices if idx in idx_to_product]\n",
    "        \n",
    "        recommendations.append(recs if len(recs) > 0 else top_fallback)\n",
    "    \n",
    "    return recommendations"
   ]
  },
  {
   "cell_type": "code",
   "execution_count": 21,
   "id": "83857187-b44b-44c9-b6be-b862dfa2acf7",
   "metadata": {},
   "outputs": [
    {
     "name": "stderr",
     "output_type": "stream",
     "text": [
      "Batch Prediction: 100%|███████████████████████████████████████████| 132/132 [00:33<00:00,  3.93it/s]\n"
     ]
    }
   ],
   "source": [
    "# 5. Прогнозирование\n",
    "def predict_in_batches(test_users, batch_size=1000):\n",
    "    user_ids = test_users['user_id'].values\n",
    "    n_batches = (len(user_ids) + batch_size - 1) // batch_size\n",
    "    \n",
    "    all_preds = []\n",
    "    for i in tqdm(range(n_batches), desc=\"Batch Prediction\", ncols=100):\n",
    "        start = i * batch_size\n",
    "        end = min((i+1)*batch_size, len(user_ids))\n",
    "        batch_ids = user_ids[start:end]\n",
    "        \n",
    "        batch_preds = generate_recommendations_batch(\n",
    "            batch_ids, user_map, sparse_matrix, \n",
    "            similarities, idx_to_product, top_fallback\n",
    "        )\n",
    "        all_preds.extend(batch_preds)\n",
    "    \n",
    "    return all_preds\n",
    "\n",
    "test_users['predicted'] = predict_in_batches(test_users)"
   ]
  },
  {
   "cell_type": "code",
   "execution_count": 22,
   "id": "8416bdac-784c-4bb5-883c-ae68e2703f73",
   "metadata": {},
   "outputs": [
    {
     "name": "stdout",
     "output_type": "stream",
     "text": [
      "\n",
      "Final Metrics:\n",
      "Precision@10: 0.0200\n",
      "Recall@10:    0.0192\n",
      "Hit Rate@10:  0.1624\n"
     ]
    }
   ],
   "source": [
    "# 6. Расчет метрик\n",
    "def evaluate_metrics(test_df):\n",
    "    precisions, recalls, hit_rates = [], [], []\n",
    "    \n",
    "    for _, row in test_df.iterrows():\n",
    "        actual = set(row['actual'])\n",
    "        predicted = set(row['predicted'][:10])\n",
    "        \n",
    "        tp = len(actual & predicted)\n",
    "        prec = tp / 10 if len(predicted) > 0 else 0\n",
    "        rec = tp / len(actual) if len(actual) > 0 else 0\n",
    "        \n",
    "        precisions.append(prec)\n",
    "        recalls.append(rec)\n",
    "        hit_rates.append(1 if tp > 0 else 0)\n",
    "    \n",
    "    return {\n",
    "        'precision@10': np.nanmean(precisions),\n",
    "        'recall@10': np.nanmean(recalls),\n",
    "        'hit_rate@10': np.nanmean(hit_rates)\n",
    "    }\n",
    "\n",
    "metrics = evaluate_metrics(test_users)\n",
    "print(\"\\nFinal Metrics:\")\n",
    "print(f\"Precision@10: {metrics['precision@10']:.4f}\") \n",
    "print(f\"Recall@10:    {metrics['recall@10']:.4f}\")\n",
    "print(f\"Hit Rate@10:  {metrics['hit_rate@10']:.4f}\")"
   ]
  },
  {
   "cell_type": "code",
   "execution_count": null,
   "id": "cc42464c-fbd3-480f-a150-267955517860",
   "metadata": {},
   "outputs": [],
   "source": []
  },
  {
   "cell_type": "code",
   "execution_count": null,
   "id": "b8271a05-115f-4ec7-a02d-9b34e4c3cff0",
   "metadata": {},
   "outputs": [],
   "source": []
  },
  {
   "cell_type": "code",
   "execution_count": null,
   "id": "6ad7cfe9-70e2-4a1f-bfb9-56169d49242e",
   "metadata": {},
   "outputs": [],
   "source": []
  },
  {
   "cell_type": "code",
   "execution_count": null,
   "id": "fa4fd183-c9a6-4a64-b058-21824ed88afc",
   "metadata": {},
   "outputs": [],
   "source": []
  },
  {
   "cell_type": "code",
   "execution_count": null,
   "id": "e367b83e-3aa8-4e0d-a58f-7ee58c3430db",
   "metadata": {},
   "outputs": [],
   "source": []
  },
  {
   "cell_type": "code",
   "execution_count": null,
   "id": "ebabf48b-c8ab-4bf4-95cc-ba4b981b1e4d",
   "metadata": {},
   "outputs": [],
   "source": []
  },
  {
   "cell_type": "code",
   "execution_count": null,
   "id": "3702047e-03ed-4288-9260-3bdad83b2089",
   "metadata": {},
   "outputs": [],
   "source": []
  },
  {
   "cell_type": "code",
   "execution_count": null,
   "id": "02c7b9a0-0ad8-4b5d-ac20-c5a3bed9b001",
   "metadata": {},
   "outputs": [],
   "source": []
  },
  {
   "cell_type": "code",
   "execution_count": 64,
   "id": "c464896c-24b2-47a7-8cf0-098afe2dcfc2",
   "metadata": {},
   "outputs": [
    {
     "name": "stdout",
     "output_type": "stream",
     "text": [
      "Пример соответствия ID и кодов:\n",
      "   product_id  code\n",
      "0           1     0\n",
      "1           2     1\n",
      "2           3     2\n",
      "3           4     3\n",
      "4           5     4\n",
      "5           8     5\n",
      "6           9     6\n",
      "7          10     7\n",
      "8          11     8\n",
      "9          12     9\n"
     ]
    }
   ],
   "source": [
    "# После загрузки product_ids\n",
    "print(\"Пример соответствия ID и кодов:\")\n",
    "print(pd.DataFrame({'product_id': product_ids[:10], 'code': range(10)}))"
   ]
  },
  {
   "cell_type": "code",
   "execution_count": 65,
   "id": "1f3b67e0-a79c-4d0b-8cd2-fa01901b684c",
   "metadata": {},
   "outputs": [
    {
     "name": "stdout",
     "output_type": "stream",
     "text": [
      "Сходство для 123:\n",
      "[[0. 0. 0. ... 0. 0. 0.]]\n"
     ]
    }
   ],
   "source": [
    "# Для случайного товара\n",
    "sample_product = product_ids[100]\n",
    "print(f\"Сходство для {sample_product}:\")\n",
    "print(cosine_sim[100].toarray())"
   ]
  },
  {
   "cell_type": "code",
   "execution_count": 66,
   "id": "6795064e-7bc8-4ea7-9ed3-8919ea679639",
   "metadata": {},
   "outputs": [
    {
     "name": "stdout",
     "output_type": "stream",
     "text": [
      "\n",
      "Тест для пользователя 1:\n",
      "Рекомендации: [24852, 20940, 38689, 39180, 12384, 24024, 29447, 13176, 1729, 44799]\n",
      "Реальные покупки: [  196 25133 38928 26405 39657 10258 13032 26088 27845 49235 46149]\n"
     ]
    }
   ],
   "source": [
    "test_user = test['user_id'].iloc[0]\n",
    "print(f\"\\nТест для пользователя {test_user}:\")\n",
    "recs = recommend_item_item(test_user)\n",
    "print(\"Рекомендации:\", recs)\n",
    "print(\"Реальные покупки:\", test[test['user_id'] == test_user]['product_id'].values)"
   ]
  },
  {
   "cell_type": "code",
   "execution_count": 41,
   "id": "de5226da-b236-4599-aabb-39010cc44fe9",
   "metadata": {},
   "outputs": [],
   "source": [
    "import pandas as pd\n",
    "import numpy as np\n",
    "from scipy.sparse import csr_matrix\n",
    "from collections import defaultdict"
   ]
  },
  {
   "cell_type": "code",
   "execution_count": 42,
   "id": "08036afe-987d-4223-a6d5-228e5470f419",
   "metadata": {},
   "outputs": [],
   "source": [
    "class MatrixFactorizationRecommender:\n",
    "    def __init__(self, n_factors=50, n_iter=15, alpha=0.01, reg=0.1, n_recommendations=10):\n",
    "        self.n_factors = n_factors\n",
    "        self.n_iter = n_iter\n",
    "        self.alpha = alpha\n",
    "        self.reg = reg\n",
    "        self.n_rec = n_recommendations\n",
    "        self.user_factors = None\n",
    "        self.item_factors = None\n",
    "        self.user_id_map = None\n",
    "        self.item_id_map = None\n",
    "    \n",
    "    def prepare_data(self, data):\n",
    "        # Создание маппингов для пользователей и товаров\n",
    "        unique_users = data['user_id'].unique()\n",
    "        unique_items = data['product_id'].unique()\n",
    "        \n",
    "        self.user_id_map = {uid: idx for idx, uid in enumerate(unique_users)}\n",
    "        self.item_id_map = {iid: idx for idx, iid in enumerate(unique_items)}\n",
    "        \n",
    "        # Создание разреженной матрицы взаимодействий\n",
    "        rows = data['user_id'].map(self.user_id_map)\n",
    "        cols = data['product_id'].map(self.item_id_map)\n",
    "        values = np.ones(len(data))  # Бинарные взаимодействия\n",
    "        \n",
    "        self.interactions = csr_matrix((values, (rows, cols)), \n",
    "                                      shape=(len(unique_users), len(unique_items)))\n",
    "    \n",
    "    def fit(self):\n",
    "        # Инициализация матриц факторов\n",
    "        n_users, n_items = self.interactions.shape\n",
    "        self.user_factors = np.random.normal(scale=0.1, size=(n_users, self.n_factors))\n",
    "        self.item_factors = np.random.normal(scale=0.1, size=(n_items, self.n_factors))\n",
    "        \n",
    "        # ALS оптимизация\n",
    "        for _ in range(self.n_iter):\n",
    "            # Оптимизация пользовательских факторов\n",
    "            self.user_factors = self._als_step(self.interactions, self.item_factors, self.user_factors)\n",
    "            \n",
    "            # Оптимизация товарных факторов\n",
    "            self.item_factors = self._als_step(self.interactions.T, self.user_factors, self.item_factors)\n",
    "    \n",
    "    def _als_step(self, interactions, fixed_factors, factors_to_update):\n",
    "        # Решение задачи оптимизации с регуляризацией\n",
    "        lambda_eye = self.reg * np.eye(self.n_factors)\n",
    "        for i in range(factors_to_update.shape[0]):\n",
    "            # Вычисление для каждого пользователя/товара\n",
    "            interactions_i = interactions[i].toarray().ravel()\n",
    "            mask = interactions_i > 0\n",
    "            if np.sum(mask) == 0:\n",
    "                continue\n",
    "            \n",
    "            X = fixed_factors[mask]\n",
    "            y = interactions_i[mask]\n",
    "            \n",
    "            A = X.T.dot(X) + lambda_eye * X.shape[0]\n",
    "            b = X.T.dot(y)\n",
    "            \n",
    "            factors_to_update[i] = np.linalg.solve(A, b)\n",
    "        return factors_to_update\n",
    "    \n",
    "    def recommend(self, user_id):\n",
    "        if user_id not in self.user_id_map:\n",
    "            return []\n",
    "            \n",
    "        user_idx = self.user_id_map[user_id]\n",
    "        purchased = self.interactions[user_idx].indices\n",
    "        \n",
    "        # Предсказание рейтингов\n",
    "        scores = self.user_factors[user_idx].dot(self.item_factors.T)\n",
    "        \n",
    "        # Исключение уже купленных товаров\n",
    "        scores[purchased] = -np.inf\n",
    "        \n",
    "        # Выбор топ-N рекомендаций\n",
    "        top_items = np.argsort(scores)[::-1][:self.n_rec]\n",
    "        return [list(self.item_id_map.keys())[list(self.item_id_map.values()).index(i)] for i in top_items]"
   ]
  },
  {
   "cell_type": "code",
   "execution_count": 43,
   "id": "880bdf1d-a900-4763-9b6a-0f1b0c4f9e92",
   "metadata": {},
   "outputs": [],
   "source": [
    "# Модифицированный пайплайн с проверкой данных\n",
    "def main_pipeline(data):\n",
    "    # Проверка обязательных колонок\n",
    "    required_columns = ['user_id', 'product_id', 'order_number']\n",
    "    assert all(col in data.columns for col in required_columns), \"Отсутствуют необходимые колонки\"\n",
    "    \n",
    "    # Подготовка train/test\n",
    "    data = data.sort_values(['user_id', 'order_number'])\n",
    "    user_last_order = data.groupby('user_id')['order_number'].max().reset_index()\n",
    "    user_last_order.columns = ['user_id', 'last_order']\n",
    "    \n",
    "    merged = data.merge(user_last_order, on='user_id')\n",
    "    train = merged[merged['order_number'] < merged['last_order']]\n",
    "    test = merged[merged['order_number'] == merged['last_order']]\n",
    "    \n",
    "    # Инициализация и обучение модели\n",
    "    model = MatrixFactorizationRecommender(n_factors=32, n_iter=20)\n",
    "    model.prepare_data(train)\n",
    "    model.fit()\n",
    "    \n",
    "    # Расчет метрик (используем предыдущую функцию calculate_metrics)\n",
    "    all_items = data['product_id'].unique()\n",
    "    metrics = calculate_metrics(test, model, all_items)\n",
    "    \n",
    "    return metrics"
   ]
  },
  {
   "cell_type": "code",
   "execution_count": 44,
   "id": "c01c4979-5432-4d4b-8773-d799f07446a9",
   "metadata": {},
   "outputs": [
    {
     "name": "stdout",
     "output_type": "stream",
     "text": [
      "\n",
      "Оценка рекомендательной системы (Matrix Factorization):\n",
      "precision@10: 0.0008\n",
      "recall@10: 0.0009\n",
      "hit_rate@10: 0.0084\n",
      "coverage: 0.055\n"
     ]
    }
   ],
   "source": [
    "# Запуск системы\n",
    "result_metrics = main_pipeline(df)\n",
    "print(\"\\nОценка рекомендательной системы (Matrix Factorization):\")\n",
    "for metric, value in result_metrics.items():\n",
    "    print(f\"{metric}: {value}\")"
   ]
  },
  {
   "cell_type": "code",
   "execution_count": null,
   "id": "9c4b1abc-ba99-44b7-bf44-c1e1f81f7b27",
   "metadata": {},
   "outputs": [],
   "source": []
  },
  {
   "cell_type": "code",
   "execution_count": null,
   "id": "bbafb3a3-922b-4033-ae68-8fd4e9bdf27e",
   "metadata": {},
   "outputs": [],
   "source": []
  },
  {
   "cell_type": "code",
   "execution_count": null,
   "id": "39730cfd-594e-4875-a9dc-9a0c1328ad85",
   "metadata": {},
   "outputs": [],
   "source": []
  },
  {
   "cell_type": "code",
   "execution_count": null,
   "id": "32f0284a-f72c-44e2-a2cd-96a6e54c78fa",
   "metadata": {},
   "outputs": [],
   "source": []
  },
  {
   "cell_type": "code",
   "execution_count": null,
   "id": "195ea128-3d7a-4771-8e70-e33ae51cc8fb",
   "metadata": {},
   "outputs": [],
   "source": []
  },
  {
   "cell_type": "code",
   "execution_count": null,
   "id": "84ba8bee-92f3-4296-802e-42313cf77eed",
   "metadata": {},
   "outputs": [],
   "source": []
  },
  {
   "cell_type": "code",
   "execution_count": null,
   "id": "da11caac-df12-433d-ac93-51c304162d92",
   "metadata": {},
   "outputs": [],
   "source": []
  },
  {
   "cell_type": "code",
   "execution_count": null,
   "id": "67f5c4f7-6c0e-4b7a-9d00-c20aae8ecdac",
   "metadata": {},
   "outputs": [],
   "source": []
  },
  {
   "cell_type": "code",
   "execution_count": null,
   "id": "f1a1f085-d921-4963-ac35-512ae6ff5255",
   "metadata": {},
   "outputs": [],
   "source": []
  },
  {
   "cell_type": "code",
   "execution_count": null,
   "id": "a04f624e-e093-4182-802b-fc1f9ece8c61",
   "metadata": {},
   "outputs": [],
   "source": []
  },
  {
   "cell_type": "code",
   "execution_count": null,
   "id": "d50a6c93-6a9e-41f1-b503-46c58f306b73",
   "metadata": {},
   "outputs": [],
   "source": []
  },
  {
   "cell_type": "code",
   "execution_count": null,
   "id": "66a9a0f0-60db-4e08-923b-402dca7c302e",
   "metadata": {},
   "outputs": [],
   "source": []
  },
  {
   "cell_type": "code",
   "execution_count": null,
   "id": "47ea3fbf-5a72-4870-b40b-6f5ab8c1c109",
   "metadata": {},
   "outputs": [],
   "source": []
  },
  {
   "cell_type": "code",
   "execution_count": null,
   "id": "9c578e76-afa6-4235-b6bf-27a319fcffc6",
   "metadata": {},
   "outputs": [],
   "source": []
  },
  {
   "cell_type": "code",
   "execution_count": 138,
   "id": "c4f7a44e-276b-4774-8481-1f64c9af16ee",
   "metadata": {},
   "outputs": [
    {
     "name": "stdout",
     "output_type": "stream",
     "text": [
      "Проверка данных перед обработкой:\n",
      "Количество строк: 1384617, NaN в данных: 0\n"
     ]
    }
   ],
   "source": [
    "# 1. Подготовка данных --------------------------------------------------------\n",
    "# Проверка и очистка данных\n",
    "print(\"Проверка данных перед обработкой:\")\n",
    "print(f\"Количество строк: {len(df)}, NaN в данных: {df.isnull().sum().sum()}\")\n",
    "\n",
    "# Заполнение пропусков в days_since_prior_order\n",
    "df['days_since_prior_order'].fillna(0, inplace=True)"
   ]
  },
  {
   "cell_type": "code",
   "execution_count": 139,
   "id": "c114591a-470b-4030-9836-f19c243fbe4e",
   "metadata": {},
   "outputs": [],
   "source": [
    "# Кодирование категориальных признаков\n",
    "user_features = df.groupby('user_id').agg({\n",
    "    'order_dow': ['mean', 'std'],\n",
    "    'order_hour_of_day': ['mean', 'std'],\n",
    "    'days_since_prior_order': ['mean', 'std'],\n",
    "    'department': lambda x: x.mode()[0]\n",
    "}).reset_index()\n",
    "user_features.columns = ['user_id', 'dow_mean', 'dow_std', \n",
    "                        'hour_mean', 'hour_std', \n",
    "                        'days_mean', 'days_std', 'fav_dept']\n",
    "\n",
    "item_features = df.groupby('product_id').agg({\n",
    "    'aisle': 'first',\n",
    "    'department': 'first',\n",
    "    'reordered': 'mean'\n",
    "}).reset_index()\n",
    "\n",
    "# Кодируем категории\n",
    "dept_encoder = LabelEncoder()\n",
    "aisle_encoder = LabelEncoder()\n",
    "\n",
    "user_features['fav_dept'] = dept_encoder.fit_transform(user_features['fav_dept'])\n",
    "item_features['aisle'] = aisle_encoder.fit_transform(item_features['aisle'])\n",
    "item_features['department'] = dept_encoder.transform(item_features['department'])\n",
    "\n",
    "# Нормализация числовых признаков\n",
    "scaler = StandardScaler()\n",
    "user_features[['dow_mean', 'dow_std', 'hour_mean', 'hour_std', \n",
    "              'days_mean', 'days_std']] = scaler.fit_transform(\n",
    "                  user_features[['dow_mean', 'dow_std', 'hour_mean', 'hour_std',\n",
    "                               'days_mean', 'days_std']]\n",
    "              )"
   ]
  },
  {
   "cell_type": "code",
   "execution_count": null,
   "id": "83096f0e-e927-4fad-83fb-11f3a2d26bb6",
   "metadata": {},
   "outputs": [],
   "source": []
  },
  {
   "cell_type": "code",
   "execution_count": 124,
   "id": "750afd55-27fd-4ef6-aa3f-f8f1f1ed2860",
   "metadata": {},
   "outputs": [],
   "source": [
    "# 2. Создание датасета --------------------------------------------------------\n",
    "class SafeRecommendationDataset(Dataset):\n",
    "    def __init__(self, interactions, user_features, item_features):\n",
    "        self.interactions = interactions\n",
    "        self.user_features = user_features.set_index('user_id')\n",
    "        self.item_features = item_features.set_index('product_id')\n",
    "        self.valid_pairs = self._filter_valid_pairs()\n",
    "\n",
    "    def _filter_valid_pairs(self):\n",
    "        valid = []\n",
    "        for user_id, item_id, label in self.interactions:\n",
    "            if user_id in self.user_features.index and item_id in self.item_features.index:\n",
    "                valid.append((user_id, item_id, label))\n",
    "        return valid\n",
    "\n",
    "    def __len__(self):\n",
    "        return len(self.valid_pairs)\n",
    "\n",
    "    def __getitem__(self, idx):\n",
    "        user_id, item_id, label = self.valid_pairs[idx]\n",
    "        user_feat = self.user_features.loc[user_id].values\n",
    "        item_feat = self.item_features.loc[item_id].values\n",
    "        return {\n",
    "            'user': torch.tensor(user_feat, dtype=torch.float),\n",
    "            'item': torch.tensor(item_feat, dtype=torch.float),\n",
    "            'label': torch.tensor(label, dtype=torch.float)\n",
    "        }"
   ]
  },
  {
   "cell_type": "code",
   "execution_count": 134,
   "id": "93c7cd2f-42a7-4f11-a8b8-16bc99d3c922",
   "metadata": {},
   "outputs": [],
   "source": [
    "# 3. Архитектура модели -------------------------------------------------------\n",
    "class TwoTower(nn.Module):\n",
    "    def __init__(self, user_dim, item_dim, embedding_dim=64):\n",
    "        super().__init__()\n",
    "        \n",
    "        # User Tower\n",
    "        self.user_net = nn.Sequential(\n",
    "            nn.Linear(user_dim, 128),\n",
    "            nn.BatchNorm1d(128),\n",
    "            nn.ReLU(),\n",
    "            nn.Linear(128, embedding_dim)\n",
    "        )\n",
    "        \n",
    "        # Item Tower\n",
    "        self.item_net = nn.Sequential(\n",
    "            nn.Linear(item_dim, 128),\n",
    "            nn.BatchNorm1d(128),\n",
    "            nn.ReLU(),\n",
    "            nn.Linear(128, embedding_dim)\n",
    "        )\n",
    "        \n",
    "        # Инициализация весов\n",
    "        for layer in [self.user_net, self.item_net]:\n",
    "            for module in layer:\n",
    "                if isinstance(module, nn.Linear):\n",
    "                    nn.init.xavier_normal_(module.weight)\n",
    "                    nn.init.constant_(module.bias, 0.01)\n",
    "\n",
    "    def forward(self, user, item):\n",
    "        user_embed = F.normalize(self.user_net(user), p=2, dim=1)\n",
    "        item_embed = F.normalize(self.item_net(item), p=2, dim=1)\n",
    "        return torch.sum(user_embed * item_embed, dim=1)"
   ]
  },
  {
   "cell_type": "code",
   "execution_count": 135,
   "id": "6deeb826-89cf-4382-9e3e-fbac25291bea",
   "metadata": {
    "scrolled": true
   },
   "outputs": [
    {
     "name": "stderr",
     "output_type": "stream",
     "text": [
      "Epoch 1:   0%|                                         | 0/1082 [00:00<?, ?it/s]\n"
     ]
    },
    {
     "ename": "ValueError",
     "evalue": "NaN detected in User features",
     "output_type": "error",
     "traceback": [
      "\u001b[0;31m---------------------------------------------------------------------------\u001b[0m",
      "\u001b[0;31mValueError\u001b[0m                                Traceback (most recent call last)",
      "Cell \u001b[0;32mIn[135], line 24\u001b[0m\n\u001b[1;32m     21\u001b[0m label \u001b[38;5;241m=\u001b[39m batch[\u001b[38;5;124m'\u001b[39m\u001b[38;5;124mlabel\u001b[39m\u001b[38;5;124m'\u001b[39m]\u001b[38;5;241m.\u001b[39mto(device)\n\u001b[1;32m     23\u001b[0m \u001b[38;5;66;03m# Проверка входных данных\u001b[39;00m\n\u001b[0;32m---> 24\u001b[0m \u001b[43mcheck_nan\u001b[49m\u001b[43m(\u001b[49m\u001b[43muser\u001b[49m\u001b[43m,\u001b[49m\u001b[43m \u001b[49m\u001b[38;5;124;43m\"\u001b[39;49m\u001b[38;5;124;43mUser features\u001b[39;49m\u001b[38;5;124;43m\"\u001b[39;49m\u001b[43m)\u001b[49m\n\u001b[1;32m     25\u001b[0m check_nan(item, \u001b[38;5;124m\"\u001b[39m\u001b[38;5;124mItem features\u001b[39m\u001b[38;5;124m\"\u001b[39m)\n\u001b[1;32m     26\u001b[0m check_nan(label, \u001b[38;5;124m\"\u001b[39m\u001b[38;5;124mLabels\u001b[39m\u001b[38;5;124m\"\u001b[39m)\n",
      "Cell \u001b[0;32mIn[135], line 11\u001b[0m, in \u001b[0;36mcheck_nan\u001b[0;34m(tensor, name)\u001b[0m\n\u001b[1;32m      9\u001b[0m \u001b[38;5;28;01mdef\u001b[39;00m \u001b[38;5;21mcheck_nan\u001b[39m(tensor, name):\n\u001b[1;32m     10\u001b[0m     \u001b[38;5;28;01mif\u001b[39;00m torch\u001b[38;5;241m.\u001b[39misnan(tensor)\u001b[38;5;241m.\u001b[39many():\n\u001b[0;32m---> 11\u001b[0m         \u001b[38;5;28;01mraise\u001b[39;00m \u001b[38;5;167;01mValueError\u001b[39;00m(\u001b[38;5;124mf\u001b[39m\u001b[38;5;124m\"\u001b[39m\u001b[38;5;124mNaN detected in \u001b[39m\u001b[38;5;132;01m{\u001b[39;00mname\u001b[38;5;132;01m}\u001b[39;00m\u001b[38;5;124m\"\u001b[39m)\n",
      "\u001b[0;31mValueError\u001b[0m: NaN detected in User features"
     ]
    }
   ],
   "source": [
    "# 4. Обучение модели ----------------------------------------------------------\n",
    "device = torch.device('cuda' if torch.cuda.is_available() else 'cpu')\n",
    "model = TwoTower(user_dim, item_dim).to(device)\n",
    "\n",
    "optimizer = optim.Adam(model.parameters(), lr=1e-4, weight_decay=1e-4)\n",
    "criterion = nn.BCEWithLogitsLoss()\n",
    "\n",
    "# Функция для проверки NaN\n",
    "def check_nan(tensor, name):\n",
    "    if torch.isnan(tensor).any():\n",
    "        raise ValueError(f\"NaN detected in {name}\")\n",
    "\n",
    "# Цикл обучения\n",
    "for epoch in range(10):\n",
    "    model.train()\n",
    "    total_loss = 0\n",
    "    \n",
    "    for batch in tqdm(train_loader, desc=f\"Epoch {epoch+1}\"):\n",
    "        user = batch['user'].to(device)\n",
    "        item = batch['item'].to(device)\n",
    "        label = batch['label'].to(device)\n",
    "        \n",
    "        # Проверка входных данных\n",
    "        check_nan(user, \"User features\")\n",
    "        check_nan(item, \"Item features\")\n",
    "        check_nan(label, \"Labels\")\n",
    "        \n",
    "        optimizer.zero_grad()\n",
    "        outputs = model(user, item)\n",
    "        \n",
    "        # Проверка выходов модели\n",
    "        check_nan(outputs, \"Model outputs\")\n",
    "        \n",
    "        loss = criterion(outputs, label)\n",
    "        check_nan(loss, \"Loss\")\n",
    "        \n",
    "        loss.backward()\n",
    "        # Клиппинг градиентов\n",
    "        torch.nn.utils.clip_grad_norm_(model.parameters(), max_norm=1.0)\n",
    "        \n",
    "        optimizer.step()\n",
    "        total_loss += loss.item()\n",
    "    \n",
    "    avg_loss = total_loss / len(train_loader)\n",
    "    print(f\"Epoch {epoch+1} | Loss: {avg_loss:.4f}\")"
   ]
  },
  {
   "cell_type": "code",
   "execution_count": 128,
   "id": "70d7ab4a-3cfe-4aae-ab27-2d972563b2b7",
   "metadata": {},
   "outputs": [],
   "source": [
    "# 5. Генерация рекомендаций ---------------------------------------------------\n",
    "def recommend_two_tower(user_id, k=10):\n",
    "    model.eval()\n",
    "    \n",
    "    # Кэшируем все item эмбеддинги\n",
    "    item_tensors = torch.tensor(item_features.iloc[:, 1:].values, dtype=torch.float).to(device)\n",
    "    with torch.no_grad():\n",
    "        item_embeds = model.item_net(item_tensors)\n",
    "    \n",
    "    # Эмбеддинг пользователя\n",
    "    try:\n",
    "        user_feat = user_features.loc[user_id].values[1:]\n",
    "    except KeyError:\n",
    "        return popularity_df.head(k).index.tolist()\n",
    "    \n",
    "    user_tensor = torch.tensor(user_feat, dtype=torch.float).to(device).unsqueeze(0)\n",
    "    with torch.no_grad():\n",
    "        user_embed = model.user_net(user_tensor)\n",
    "    \n",
    "    # Быстрый поиск через FAISS\n",
    "    import faiss\n",
    "    index = faiss.IndexFlatIP(64)\n",
    "    index.add(item_embeds.cpu().numpy())\n",
    "    distances, indices = index.search(user_embed.cpu().numpy(), k)\n",
    "    \n",
    "    return item_features.iloc[indices[0]]['product_id'].tolist()"
   ]
  },
  {
   "cell_type": "code",
   "execution_count": 132,
   "id": "042e862d-f6a7-4fa7-aa3f-efc13971a860",
   "metadata": {},
   "outputs": [
    {
     "name": "stdout",
     "output_type": "stream",
     "text": [
      "\n",
      "Two Tower Metrics:\n"
     ]
    },
    {
     "name": "stderr",
     "output_type": "stream",
     "text": [
      "100%|███████████████████████████████████████| 1000/1000 [00:20<00:00, 48.20it/s]"
     ]
    },
    {
     "name": "stdout",
     "output_type": "stream",
     "text": [
      "precision@10: 0.0000\n",
      "recall@10: 0.0000\n",
      "hit_rate@10: 0.0000\n",
      "coverage: 0.0000\n"
     ]
    },
    {
     "name": "stderr",
     "output_type": "stream",
     "text": [
      "\n"
     ]
    }
   ],
   "source": [
    "# 6. Оценка качества ----------------------------------------------------------\n",
    "# Используем функцию evaluate_item_item из предыдущего кода\n",
    "print(\"\\nTwo Tower Metrics:\")\n",
    "two_tower_metrics = evaluate_item_item(test, recommend_two_tower)\n",
    "for metric, value in two_tower_metrics.items():\n",
    "    print(f\"{metric}: {value:.4f}\")"
   ]
  },
  {
   "cell_type": "code",
   "execution_count": null,
   "id": "be307554-16b4-4870-82fb-871b16460f94",
   "metadata": {},
   "outputs": [],
   "source": []
  },
  {
   "cell_type": "code",
   "execution_count": null,
   "id": "e55ec6cf-a5e8-4499-a51f-dfce773ef21b",
   "metadata": {},
   "outputs": [],
   "source": []
  }
 ],
 "metadata": {
  "kernelspec": {
   "display_name": "Python 3 (ipykernel)",
   "language": "python",
   "name": "python3"
  },
  "language_info": {
   "codemirror_mode": {
    "name": "ipython",
    "version": 3
   },
   "file_extension": ".py",
   "mimetype": "text/x-python",
   "name": "python",
   "nbconvert_exporter": "python",
   "pygments_lexer": "ipython3",
   "version": "3.10.12"
  }
 },
 "nbformat": 4,
 "nbformat_minor": 5
}
